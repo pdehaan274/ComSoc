{
 "cells": [
  {
   "cell_type": "code",
   "execution_count": 1,
   "metadata": {},
   "outputs": [],
   "source": [
    "import pandas as pd\n",
    "from matplotlib import pyplot as plt"
   ]
  },
  {
   "cell_type": "code",
   "execution_count": 859,
   "metadata": {},
   "outputs": [],
   "source": [
    "min_p = 4\n",
    "max_p = 8\n",
    "\n",
    "P = 40\n",
    "df = pd.read_csv(f\"results/results_P{P}_ep10_N500_B40_min{min_p}_max{max_p}_g1_L1000.csv\")"
   ]
  },
  {
   "cell_type": "code",
   "execution_count": 860,
   "metadata": {},
   "outputs": [
    {
     "data": {
      "text/plain": [
       "Index(['P', 'epsilon', 'N', 'budget', 'min_prize', 'max_prize', 'g', 'avg_len',\n",
       "       'p_0', 'p_1',\n",
       "       ...\n",
       "       'k_38_util', 'k_38_egal', 'k_38_nash', 'k_38_comp', 'k_39_winners',\n",
       "       'k_39_num_winners', 'k_39_util', 'k_39_egal', 'k_39_nash', 'k_39_comp'],\n",
       "      dtype='object', length=282)"
      ]
     },
     "execution_count": 860,
     "metadata": {},
     "output_type": "execute_result"
    }
   ],
   "source": [
    "df.keys()"
   ]
  },
  {
   "cell_type": "code",
   "execution_count": 861,
   "metadata": {},
   "outputs": [
    {
     "data": {
      "text/plain": [
       "k_1_num_winners    7.151\n",
       "k_2_num_winners    7.150\n",
       "k_3_num_winners    7.152\n",
       "k_4_num_winners    7.147\n",
       "k_5_num_winners    7.149\n",
       "k_6_num_winners    7.148\n",
       "k_7_num_winners    7.141\n",
       "k_8_num_winners    7.154\n",
       "k_9_num_winners    7.142\n",
       "dtype: float64"
      ]
     },
     "execution_count": 861,
     "metadata": {},
     "output_type": "execute_result"
    }
   ],
   "source": [
    "df[[\"k_1_num_winners\", \"k_2_num_winners\", \"k_3_num_winners\", \"k_4_num_winners\", \"k_5_num_winners\", \n",
    "    \"k_6_num_winners\", \"k_7_num_winners\", \"k_8_num_winners\", \"k_9_num_winners\"]].mean()"
   ]
  },
  {
   "cell_type": "code",
   "execution_count": 862,
   "metadata": {},
   "outputs": [
    {
     "data": {
      "text/html": [
       "<div>\n",
       "<style scoped>\n",
       "    .dataframe tbody tr th:only-of-type {\n",
       "        vertical-align: middle;\n",
       "    }\n",
       "\n",
       "    .dataframe tbody tr th {\n",
       "        vertical-align: top;\n",
       "    }\n",
       "\n",
       "    .dataframe thead th {\n",
       "        text-align: right;\n",
       "    }\n",
       "</style>\n",
       "<table border=\"1\" class=\"dataframe\">\n",
       "  <thead>\n",
       "    <tr style=\"text-align: right;\">\n",
       "      <th></th>\n",
       "      <th>k_1_egal</th>\n",
       "      <th>k_2_egal</th>\n",
       "      <th>k_3_egal</th>\n",
       "      <th>k_4_egal</th>\n",
       "      <th>k_5_egal</th>\n",
       "      <th>k_6_egal</th>\n",
       "      <th>k_7_egal</th>\n",
       "      <th>k_8_egal</th>\n",
       "      <th>k_9_egal</th>\n",
       "    </tr>\n",
       "  </thead>\n",
       "  <tbody>\n",
       "    <tr>\n",
       "      <th>0</th>\n",
       "      <td>0.102356</td>\n",
       "      <td>0.127610</td>\n",
       "      <td>0.116787</td>\n",
       "      <td>0.118164</td>\n",
       "      <td>0.118164</td>\n",
       "      <td>0.125265</td>\n",
       "      <td>0.125265</td>\n",
       "      <td>0.125265</td>\n",
       "      <td>0.125265</td>\n",
       "    </tr>\n",
       "    <tr>\n",
       "      <th>1</th>\n",
       "      <td>0.124500</td>\n",
       "      <td>0.125647</td>\n",
       "      <td>0.125647</td>\n",
       "      <td>0.124500</td>\n",
       "      <td>0.126819</td>\n",
       "      <td>0.140523</td>\n",
       "      <td>0.140523</td>\n",
       "      <td>0.140523</td>\n",
       "      <td>0.140523</td>\n",
       "    </tr>\n",
       "    <tr>\n",
       "      <th>2</th>\n",
       "      <td>0.110775</td>\n",
       "      <td>0.102283</td>\n",
       "      <td>0.127645</td>\n",
       "      <td>0.115121</td>\n",
       "      <td>0.102283</td>\n",
       "      <td>0.115121</td>\n",
       "      <td>0.109057</td>\n",
       "      <td>0.115121</td>\n",
       "      <td>0.109057</td>\n",
       "    </tr>\n",
       "    <tr>\n",
       "      <th>3</th>\n",
       "      <td>0.126883</td>\n",
       "      <td>0.126883</td>\n",
       "      <td>0.126883</td>\n",
       "      <td>0.129888</td>\n",
       "      <td>0.126883</td>\n",
       "      <td>0.125088</td>\n",
       "      <td>0.125088</td>\n",
       "      <td>0.125088</td>\n",
       "      <td>0.125088</td>\n",
       "    </tr>\n",
       "    <tr>\n",
       "      <th>4</th>\n",
       "      <td>0.165395</td>\n",
       "      <td>0.167465</td>\n",
       "      <td>0.167465</td>\n",
       "      <td>0.167465</td>\n",
       "      <td>0.164252</td>\n",
       "      <td>0.167465</td>\n",
       "      <td>0.167465</td>\n",
       "      <td>0.167465</td>\n",
       "      <td>0.167465</td>\n",
       "    </tr>\n",
       "    <tr>\n",
       "      <th>...</th>\n",
       "      <td>...</td>\n",
       "      <td>...</td>\n",
       "      <td>...</td>\n",
       "      <td>...</td>\n",
       "      <td>...</td>\n",
       "      <td>...</td>\n",
       "      <td>...</td>\n",
       "      <td>...</td>\n",
       "      <td>...</td>\n",
       "    </tr>\n",
       "    <tr>\n",
       "      <th>995</th>\n",
       "      <td>0.120014</td>\n",
       "      <td>0.116272</td>\n",
       "      <td>0.095763</td>\n",
       "      <td>0.109044</td>\n",
       "      <td>0.125278</td>\n",
       "      <td>0.125278</td>\n",
       "      <td>0.123945</td>\n",
       "      <td>0.123945</td>\n",
       "      <td>0.125278</td>\n",
       "    </tr>\n",
       "    <tr>\n",
       "      <th>996</th>\n",
       "      <td>0.132156</td>\n",
       "      <td>0.111232</td>\n",
       "      <td>0.132156</td>\n",
       "      <td>0.119481</td>\n",
       "      <td>0.127944</td>\n",
       "      <td>0.136155</td>\n",
       "      <td>0.098943</td>\n",
       "      <td>0.098943</td>\n",
       "      <td>0.136890</td>\n",
       "    </tr>\n",
       "    <tr>\n",
       "      <th>997</th>\n",
       "      <td>0.152657</td>\n",
       "      <td>0.156851</td>\n",
       "      <td>0.156851</td>\n",
       "      <td>0.127847</td>\n",
       "      <td>0.127847</td>\n",
       "      <td>0.127847</td>\n",
       "      <td>0.152657</td>\n",
       "      <td>0.152657</td>\n",
       "      <td>0.152657</td>\n",
       "    </tr>\n",
       "    <tr>\n",
       "      <th>998</th>\n",
       "      <td>0.114113</td>\n",
       "      <td>0.114113</td>\n",
       "      <td>0.111789</td>\n",
       "      <td>0.111789</td>\n",
       "      <td>0.111789</td>\n",
       "      <td>0.111789</td>\n",
       "      <td>0.114113</td>\n",
       "      <td>0.114113</td>\n",
       "      <td>0.111789</td>\n",
       "    </tr>\n",
       "    <tr>\n",
       "      <th>999</th>\n",
       "      <td>0.113213</td>\n",
       "      <td>0.123950</td>\n",
       "      <td>0.123950</td>\n",
       "      <td>0.112139</td>\n",
       "      <td>0.113730</td>\n",
       "      <td>0.112150</td>\n",
       "      <td>0.112150</td>\n",
       "      <td>0.112150</td>\n",
       "      <td>0.098863</td>\n",
       "    </tr>\n",
       "  </tbody>\n",
       "</table>\n",
       "<p>1000 rows × 9 columns</p>\n",
       "</div>"
      ],
      "text/plain": [
       "     k_1_egal  k_2_egal  k_3_egal  k_4_egal  k_5_egal  k_6_egal  k_7_egal  \\\n",
       "0    0.102356  0.127610  0.116787  0.118164  0.118164  0.125265  0.125265   \n",
       "1    0.124500  0.125647  0.125647  0.124500  0.126819  0.140523  0.140523   \n",
       "2    0.110775  0.102283  0.127645  0.115121  0.102283  0.115121  0.109057   \n",
       "3    0.126883  0.126883  0.126883  0.129888  0.126883  0.125088  0.125088   \n",
       "4    0.165395  0.167465  0.167465  0.167465  0.164252  0.167465  0.167465   \n",
       "..        ...       ...       ...       ...       ...       ...       ...   \n",
       "995  0.120014  0.116272  0.095763  0.109044  0.125278  0.125278  0.123945   \n",
       "996  0.132156  0.111232  0.132156  0.119481  0.127944  0.136155  0.098943   \n",
       "997  0.152657  0.156851  0.156851  0.127847  0.127847  0.127847  0.152657   \n",
       "998  0.114113  0.114113  0.111789  0.111789  0.111789  0.111789  0.114113   \n",
       "999  0.113213  0.123950  0.123950  0.112139  0.113730  0.112150  0.112150   \n",
       "\n",
       "     k_8_egal  k_9_egal  \n",
       "0    0.125265  0.125265  \n",
       "1    0.140523  0.140523  \n",
       "2    0.115121  0.109057  \n",
       "3    0.125088  0.125088  \n",
       "4    0.167465  0.167465  \n",
       "..        ...       ...  \n",
       "995  0.123945  0.125278  \n",
       "996  0.098943  0.136890  \n",
       "997  0.152657  0.152657  \n",
       "998  0.114113  0.111789  \n",
       "999  0.112150  0.098863  \n",
       "\n",
       "[1000 rows x 9 columns]"
      ]
     },
     "execution_count": 862,
     "metadata": {},
     "output_type": "execute_result"
    }
   ],
   "source": [
    "df[[\"k_1_egal\", \"k_2_egal\", \"k_3_egal\", \"k_4_egal\", \"k_5_egal\", \n",
    "    \"k_6_egal\", \"k_7_egal\", \"k_8_egal\", \"k_9_egal\"]]"
   ]
  },
  {
   "cell_type": "code",
   "execution_count": 863,
   "metadata": {},
   "outputs": [],
   "source": [
    "def compare_row(num, r, t, P):\n",
    "    row = df.iloc[r]\n",
    "    \n",
    "    base_val = row.loc[f\"k_{num}_{t}\"]\n",
    "    best = True\n",
    "    worst = True\n",
    "    \n",
    "    for i in range(1, P):\n",
    "        if i == num:\n",
    "            continue\n",
    "        val = row.loc[f\"k_{i}_{t}\"]\n",
    "        if val > base_val:\n",
    "            best = False\n",
    "        if val < base_val:\n",
    "            worst = False\n",
    "    if best and not worst:\n",
    "        return \"best\"\n",
    "    if worst and not best:\n",
    "        return \"worst\"\n",
    "    \n",
    "    return \"mid\"\n",
    "    \n",
    "\n",
    "def compare_all_rows(k_value, t, P):\n",
    "    best_counter = 0\n",
    "    worst_counter = 0\n",
    "    mid_counter = 0\n",
    "    for i in range(len(df)):\n",
    "        res = compare_row(k_value, i, t, P)\n",
    "        \n",
    "        \n",
    "        if res == \"best\":\n",
    "            best_counter += 1\n",
    "        if res == \"worst\":\n",
    "            worst_counter += 1\n",
    "        if res == \"mid\":\n",
    "            mid_counter += 1\n",
    "            \n",
    "    return best_counter, worst_counter, mid_counter\n",
    "\n",
    "def compare_all(t, P):\n",
    "    best_list = []\n",
    "    worst_list = []\n",
    "    mid_list = []\n",
    "\n",
    "    for i in range(1, P):\n",
    "        best, worst, mid = compare_all_rows(i, t, P)\n",
    "\n",
    "        print(f\"k_{i} => best: {best}, worst: {worst}, mid: {mid}\")\n",
    "        best_list.append(best)\n",
    "        worst_list.append(worst)\n",
    "        mid_list.append(mid)\n",
    "    \n",
    "    return np.array(best_list), np.array(worst_list), np.array(mid_list)\n",
    "\n",
    "def plot_single(data, t):\n",
    "    plt.bar(range(1,P), data)\n",
    "    plt.xticks(range(1,P))\n",
    "    plt.xlabel(\"k-value\",fontsize=20)\n",
    "    plt.ylabel(\"freqentie\", fontsize=20)\n",
    "    plt.title(f\"frequentie that a k-value produced the best {t}\", fontsize=20)\n",
    "\n",
    "    plt.show()\n",
    "\n",
    "def plot_stacked(best, worst, mid, t, P, mean):\n",
    "    fig, ax = plt.subplots(figsize=(15,8))\n",
    "\n",
    "    width = 0.8\n",
    "    ax.bar(range(1,P), best, width, label='Best', color=\"green\")\n",
    "    ax.bar(range(1,P), mid, width, bottom=best, label='Middle', color=\"grey\")\n",
    "    ax.bar(range(1,P), worst, width, bottom=best+mid, label='Worst', color=\"red\")\n",
    "    \n",
    "#     ax.vlines(x=mean, ymin=0, ymax=1000, color=\"blue\")\n",
    "\n",
    "    ax.set_ylabel('Frequency', fontsize=35)\n",
    "    ax.set_xlabel('k-value', fontsize=35)\n",
    "    plt.xticks(range(1,P), fontsize=15)\n",
    "    plt.yticks(range(0,1000,200), fontsize=30)\n",
    "    \n",
    "    \n",
    "    plt.savefig(f\"images/stacked_plot_{P}_{min_p}_{max_p}_{t}.png\", bbox_inches=\"tight\")\n",
    "\n",
    "    plt.show()\n",
    "\n"
   ]
  },
  {
   "cell_type": "code",
   "execution_count": 864,
   "metadata": {},
   "outputs": [
    {
     "name": "stdout",
     "output_type": "stream",
     "text": [
      "mean: 0.00\n"
     ]
    }
   ],
   "source": [
    "mean = float(df[[\"avg_len\"]].mean())\n",
    "print(f\"mean: {mean:.2f}\")"
   ]
  },
  {
   "cell_type": "code",
   "execution_count": 865,
   "metadata": {
    "scrolled": false
   },
   "outputs": [
    {
     "name": "stdout",
     "output_type": "stream",
     "text": [
      "k_1 => best: 95, worst: 128, mid: 777\n",
      "k_2 => best: 146, worst: 47, mid: 807\n",
      "k_3 => best: 183, worst: 23, mid: 794\n",
      "k_4 => best: 179, worst: 20, mid: 801\n",
      "k_5 => best: 219, worst: 15, mid: 766\n",
      "k_6 => best: 228, worst: 18, mid: 754\n",
      "k_7 => best: 233, worst: 21, mid: 746\n",
      "k_8 => best: 250, worst: 17, mid: 733\n",
      "k_9 => best: 267, worst: 6, mid: 727\n",
      "k_10 => best: 267, worst: 15, mid: 718\n",
      "k_11 => best: 286, worst: 9, mid: 705\n",
      "k_12 => best: 274, worst: 10, mid: 716\n",
      "k_13 => best: 289, worst: 12, mid: 699\n",
      "k_14 => best: 278, worst: 19, mid: 703\n",
      "k_15 => best: 273, worst: 13, mid: 714\n",
      "k_16 => best: 276, worst: 10, mid: 714\n",
      "k_17 => best: 280, worst: 10, mid: 710\n",
      "k_18 => best: 294, worst: 9, mid: 697\n",
      "k_19 => best: 284, worst: 7, mid: 709\n",
      "k_20 => best: 277, worst: 10, mid: 713\n",
      "k_21 => best: 269, worst: 9, mid: 722\n",
      "k_22 => best: 265, worst: 12, mid: 723\n",
      "k_23 => best: 260, worst: 11, mid: 729\n",
      "k_24 => best: 247, worst: 13, mid: 740\n",
      "k_25 => best: 230, worst: 15, mid: 755\n",
      "k_26 => best: 224, worst: 18, mid: 758\n",
      "k_27 => best: 223, worst: 18, mid: 759\n",
      "k_28 => best: 218, worst: 18, mid: 764\n",
      "k_29 => best: 199, worst: 17, mid: 784\n",
      "k_30 => best: 173, worst: 19, mid: 808\n",
      "k_31 => best: 173, worst: 25, mid: 802\n",
      "k_32 => best: 163, worst: 21, mid: 816\n",
      "k_33 => best: 149, worst: 24, mid: 827\n",
      "k_34 => best: 118, worst: 34, mid: 848\n",
      "k_35 => best: 105, worst: 44, mid: 851\n",
      "k_36 => best: 92, worst: 53, mid: 855\n",
      "k_37 => best: 71, worst: 99, mid: 830\n",
      "k_38 => best: 54, worst: 167, mid: 779\n",
      "k_39 => best: 50, worst: 339, mid: 611\n"
     ]
    }
   ],
   "source": [
    "t = 'util'\n",
    "\n",
    "best, worst, mid = compare_all(t, P)"
   ]
  },
  {
   "cell_type": "code",
   "execution_count": 866,
   "metadata": {},
   "outputs": [
    {
     "data": {
      "image/png": "[encoded data removed]",
      "text/plain": [
       "<Figure size 1080x576 with 1 Axes>"
      ]
     },
     "metadata": {
      "needs_background": "light"
     },
     "output_type": "display_data"
    }
   ],
   "source": [
    "plot_stacked(best, worst, mid, t, P, mean)"
   ]
  },
  {
   "cell_type": "code",
   "execution_count": 849,
   "metadata": {},
   "outputs": [
    {
     "name": "stdout",
     "output_type": "stream",
     "text": [
      "k_1 => best: 280, worst: 253, mid: 467\n",
      "k_2 => best: 288, worst: 267, mid: 445\n",
      "k_3 => best: 306, worst: 249, mid: 445\n",
      "k_4 => best: 288, worst: 270, mid: 442\n",
      "k_5 => best: 274, worst: 278, mid: 448\n",
      "k_6 => best: 295, worst: 263, mid: 442\n",
      "k_7 => best: 286, worst: 260, mid: 454\n",
      "k_8 => best: 265, worst: 270, mid: 465\n",
      "k_9 => best: 266, worst: 284, mid: 450\n"
     ]
    }
   ],
   "source": [
    "t = 'egal'\n",
    "\n",
    "best, worst, mid = compare_all(t, P)"
   ]
  },
  {
   "cell_type": "code",
   "execution_count": 850,
   "metadata": {
    "scrolled": false
   },
   "outputs": [
    {
     "data": {
      "image/png": "[encoded data removed]",
      "text/plain": [
       "<Figure size 1080x576 with 1 Axes>"
      ]
     },
     "metadata": {
      "needs_background": "light"
     },
     "output_type": "display_data"
    }
   ],
   "source": [
    "plot_stacked(best, worst, mid, t, P, mean)"
   ]
  },
  {
   "cell_type": "code",
   "execution_count": 837,
   "metadata": {},
   "outputs": [
    {
     "name": "stdout",
     "output_type": "stream",
     "text": [
      "k_1 => best: 249, worst: 128, mid: 623\n",
      "k_2 => best: 320, worst: 58, mid: 622\n",
      "k_3 => best: 368, worst: 36, mid: 596\n",
      "k_4 => best: 392, worst: 33, mid: 575\n",
      "k_5 => best: 431, worst: 22, mid: 547\n",
      "k_6 => best: 452, worst: 23, mid: 525\n",
      "k_7 => best: 461, worst: 18, mid: 521\n",
      "k_8 => best: 460, worst: 22, mid: 518\n",
      "k_9 => best: 469, worst: 21, mid: 510\n",
      "k_10 => best: 489, worst: 10, mid: 501\n",
      "k_11 => best: 486, worst: 19, mid: 495\n",
      "k_12 => best: 494, worst: 11, mid: 495\n",
      "k_13 => best: 498, worst: 12, mid: 490\n",
      "k_14 => best: 494, worst: 15, mid: 491\n",
      "k_15 => best: 496, worst: 15, mid: 489\n",
      "k_16 => best: 496, worst: 12, mid: 492\n",
      "k_17 => best: 526, worst: 19, mid: 455\n",
      "k_18 => best: 519, worst: 10, mid: 471\n",
      "k_19 => best: 521, worst: 14, mid: 465\n",
      "k_20 => best: 516, worst: 18, mid: 466\n",
      "k_21 => best: 496, worst: 18, mid: 486\n",
      "k_22 => best: 481, worst: 17, mid: 502\n",
      "k_23 => best: 497, worst: 16, mid: 487\n",
      "k_24 => best: 471, worst: 16, mid: 513\n",
      "k_25 => best: 466, worst: 18, mid: 516\n",
      "k_26 => best: 465, worst: 14, mid: 521\n",
      "k_27 => best: 435, worst: 15, mid: 550\n",
      "k_28 => best: 413, worst: 18, mid: 569\n",
      "k_29 => best: 392, worst: 23, mid: 585\n",
      "k_30 => best: 379, worst: 25, mid: 596\n",
      "k_31 => best: 398, worst: 26, mid: 576\n",
      "k_32 => best: 376, worst: 34, mid: 590\n",
      "k_33 => best: 339, worst: 42, mid: 619\n",
      "k_34 => best: 323, worst: 54, mid: 623\n",
      "k_35 => best: 284, worst: 75, mid: 641\n",
      "k_36 => best: 247, worst: 86, mid: 667\n",
      "k_37 => best: 208, worst: 130, mid: 662\n",
      "k_38 => best: 165, worst: 198, mid: 637\n",
      "k_39 => best: 97, worst: 382, mid: 521\n"
     ]
    }
   ],
   "source": [
    "t = 'nash'\n",
    "\n",
    "best, worst, mid = compare_all(t, P)"
   ]
  },
  {
   "cell_type": "code",
   "execution_count": 838,
   "metadata": {},
   "outputs": [
    {
     "data": {
      "image/png": "[encoded data removed]",
      "text/plain": [
       "<Figure size 1080x576 with 1 Axes>"
      ]
     },
     "metadata": {
      "needs_background": "light"
     },
     "output_type": "display_data"
    }
   ],
   "source": [
    "plot_stacked(best, worst, mid, t, P, mean)"
   ]
  },
  {
   "cell_type": "code",
   "execution_count": 839,
   "metadata": {},
   "outputs": [
    {
     "name": "stdout",
     "output_type": "stream",
     "text": [
      "k_1 => best: 322, worst: 50, mid: 628\n",
      "k_2 => best: 495, worst: 34, mid: 471\n",
      "k_3 => best: 438, worst: 37, mid: 525\n",
      "k_4 => best: 396, worst: 45, mid: 559\n",
      "k_5 => best: 365, worst: 44, mid: 591\n",
      "k_6 => best: 348, worst: 48, mid: 604\n",
      "k_7 => best: 339, worst: 60, mid: 601\n",
      "k_8 => best: 309, worst: 62, mid: 629\n",
      "k_9 => best: 297, worst: 75, mid: 628\n",
      "k_10 => best: 311, worst: 74, mid: 615\n",
      "k_11 => best: 303, worst: 70, mid: 627\n",
      "k_12 => best: 288, worst: 71, mid: 641\n",
      "k_13 => best: 273, worst: 66, mid: 661\n",
      "k_14 => best: 263, worst: 71, mid: 666\n",
      "k_15 => best: 250, worst: 76, mid: 674\n",
      "k_16 => best: 239, worst: 79, mid: 682\n",
      "k_17 => best: 249, worst: 68, mid: 683\n",
      "k_18 => best: 237, worst: 74, mid: 689\n",
      "k_19 => best: 254, worst: 74, mid: 672\n",
      "k_20 => best: 242, worst: 72, mid: 686\n",
      "k_21 => best: 231, worst: 80, mid: 689\n",
      "k_22 => best: 231, worst: 94, mid: 675\n",
      "k_23 => best: 224, worst: 87, mid: 689\n",
      "k_24 => best: 207, worst: 85, mid: 708\n",
      "k_25 => best: 208, worst: 80, mid: 712\n",
      "k_26 => best: 211, worst: 84, mid: 705\n",
      "k_27 => best: 200, worst: 85, mid: 715\n",
      "k_28 => best: 211, worst: 101, mid: 688\n",
      "k_29 => best: 202, worst: 99, mid: 699\n",
      "k_30 => best: 181, worst: 117, mid: 702\n",
      "k_31 => best: 195, worst: 112, mid: 693\n",
      "k_32 => best: 178, worst: 124, mid: 698\n",
      "k_33 => best: 168, worst: 123, mid: 709\n",
      "k_34 => best: 163, worst: 133, mid: 704\n",
      "k_35 => best: 144, worst: 147, mid: 709\n",
      "k_36 => best: 129, worst: 150, mid: 721\n",
      "k_37 => best: 121, worst: 189, mid: 690\n",
      "k_38 => best: 104, worst: 205, mid: 691\n",
      "k_39 => best: 68, worst: 319, mid: 613\n"
     ]
    }
   ],
   "source": [
    "t = 'comp'\n",
    "\n",
    "best, worst, mid = compare_all(t, P)"
   ]
  },
  {
   "cell_type": "code",
   "execution_count": 840,
   "metadata": {},
   "outputs": [
    {
     "data": {
      "image/png": "[encoded data removed]",
      "text/plain": [
       "<Figure size 1080x576 with 1 Axes>"
      ]
     },
     "metadata": {
      "needs_background": "light"
     },
     "output_type": "display_data"
    }
   ],
   "source": [
    "plot_stacked(best, worst, mid, t, P, mean)"
   ]
  },
  {
   "cell_type": "code",
   "execution_count": null,
   "metadata": {},
   "outputs": [],
   "source": []
  }
 ],
 "metadata": {
  "kernelspec": {
   "display_name": "Python 3",
   "language": "python",
   "name": "python3"
  },
  "language_info": {
   "codemirror_mode": {
    "name": "ipython",
    "version": 3
   },
   "file_extension": ".py",
   "mimetype": "text/x-python",
   "name": "python",
   "nbconvert_exporter": "python",
   "pygments_lexer": "ipython3",
   "version": "3.7.6"
  }
 },
 "nbformat": 4,
 "nbformat_minor": 4
}
