{
 "cells": [
  {
   "cell_type": "code",
   "execution_count": 1,
   "metadata": {},
   "outputs": [],
   "source": [
    "import pandas as pd\n",
    "from matplotlib import pyplot as plt"
   ]
  },
  {
   "cell_type": "code",
   "execution_count": 355,
   "metadata": {},
   "outputs": [],
   "source": [
    "df = pd.read_csv(\"results/results_P20_ep10_N500_B40_min10_max20_g1_L1000.csv\")\n",
    "P = 20"
   ]
  },
  {
   "cell_type": "code",
   "execution_count": 292,
   "metadata": {},
   "outputs": [
    {
     "data": {
      "text/plain": [
       "Index(['P', 'epsilon', 'N', 'budget', 'min_prize', 'max_prize', 'g', 'p_0',\n",
       "       'p_1', 'p_2', 'p_3', 'p_4', 'p_5', 'p_6', 'p_7', 'p_8', 'p_9',\n",
       "       'k_1_winners', 'k_1_num_winners', 'k_1_util', 'k_1_egal', 'k_1_nash',\n",
       "       'k_1_comp', 'k_1_EL', 'k_2_winners', 'k_2_num_winners', 'k_2_util',\n",
       "       'k_2_egal', 'k_2_nash', 'k_2_comp', 'k_2_EL', 'k_3_winners',\n",
       "       'k_3_num_winners', 'k_3_util', 'k_3_egal', 'k_3_nash', 'k_3_comp',\n",
       "       'k_3_EL', 'k_4_winners', 'k_4_num_winners', 'k_4_util', 'k_4_egal',\n",
       "       'k_4_nash', 'k_4_comp', 'k_4_EL', 'k_5_winners', 'k_5_num_winners',\n",
       "       'k_5_util', 'k_5_egal', 'k_5_nash', 'k_5_comp', 'k_5_EL', 'k_6_winners',\n",
       "       'k_6_num_winners', 'k_6_util', 'k_6_egal', 'k_6_nash', 'k_6_comp',\n",
       "       'k_6_EL', 'k_7_winners', 'k_7_num_winners', 'k_7_util', 'k_7_egal',\n",
       "       'k_7_nash', 'k_7_comp', 'k_7_EL', 'k_8_winners', 'k_8_num_winners',\n",
       "       'k_8_util', 'k_8_egal', 'k_8_nash', 'k_8_comp', 'k_8_EL', 'k_9_winners',\n",
       "       'k_9_num_winners', 'k_9_util', 'k_9_egal', 'k_9_nash', 'k_9_comp',\n",
       "       'k_9_EL'],\n",
       "      dtype='object')"
      ]
     },
     "execution_count": 292,
     "metadata": {},
     "output_type": "execute_result"
    }
   ],
   "source": [
    "df.keys()"
   ]
  },
  {
   "cell_type": "code",
   "execution_count": 314,
   "metadata": {},
   "outputs": [],
   "source": [
    "def compare_row(num, r, t, P):\n",
    "    row = df.iloc[r]\n",
    "    \n",
    "    base_val = row.loc[f\"k_{num}_{t}\"]\n",
    "    best = True\n",
    "    worst = True\n",
    "    \n",
    "    for i in range(1, P):\n",
    "        if i == num:\n",
    "            continue\n",
    "        val = row.loc[f\"k_{i}_{t}\"]\n",
    "        if val > base_val:\n",
    "            best = False\n",
    "        if val < base_val:\n",
    "            worst = False\n",
    "    if best:\n",
    "        return \"best\"\n",
    "    if worst:\n",
    "        return \"worst\"\n",
    "    \n",
    "    return \"mid\"\n",
    "    \n",
    "\n",
    "def compare_all_rows(k_value, t, P):\n",
    "    best_counter = 0\n",
    "    worst_counter = 0\n",
    "    mid_counter = 0\n",
    "    for i in range(len(df)):\n",
    "        res = compare_row(k_value, i, t, P)\n",
    "        \n",
    "        \n",
    "        if res == \"best\":\n",
    "            best_counter += 1\n",
    "        if res == \"worst\":\n",
    "            worst_counter += 1\n",
    "        if res == \"mid\":\n",
    "            mid_counter += 1\n",
    "            \n",
    "    return best_counter, worst_counter, mid_counter\n",
    "\n",
    "def compare_all(t, P):\n",
    "    best_list = []\n",
    "    worst_list = []\n",
    "    mid_list = []\n",
    "\n",
    "    for i in range(1, P):\n",
    "        best, worst, mid = compare_all_rows(i, t, P)\n",
    "\n",
    "        print(f\"k_{i} => best: {best}, worst: {worst}, mid: {mid}\")\n",
    "        best_list.append(best)\n",
    "        worst_list.append(worst)\n",
    "        mid_list.append(mid)\n",
    "    \n",
    "    return np.array(best_list), np.array(worst_list), np.array(mid_list)\n",
    "\n",
    "def plot_single(data, t):\n",
    "    plt.bar(range(1,P), data)\n",
    "    plt.xticks(range(1,P))\n",
    "    plt.xlabel(\"k-value\",fontsize=20)\n",
    "    plt.ylabel(\"freqentie\", fontsize=20)\n",
    "    plt.title(f\"frequentie that a k-value produced the best {t}\", fontsize=20)\n",
    "\n",
    "    plt.show()\n",
    "\n",
    "def plot_stacked(best, worst, mid, t, P, mean):\n",
    "    fig, ax = plt.subplots(figsize=(15,8))\n",
    "\n",
    "    width = 0.8\n",
    "    ax.bar(range(1,P), best, width, label='Best', color=\"green\")\n",
    "    ax.bar(range(1,P), mid, width, bottom=best, label='Middle', color=\"grey\")\n",
    "    ax.bar(range(1,P), worst, width, bottom=best+mid, label='Worst', color=\"red\")\n",
    "    \n",
    "    ax.vlines(x=mean, ymin=0, ymax=1000, color=\"blue\")\n",
    "\n",
    "    ax.set_ylabel('Frequency', fontsize=20)\n",
    "    ax.set_title(f'{t} for every k-value',fontsize=25)\n",
    "#     ax.legend(loc=4, fontsize=20)\n",
    "\n",
    "    plt.show()\n",
    "\n"
   ]
  },
  {
   "cell_type": "code",
   "execution_count": 356,
   "metadata": {},
   "outputs": [],
   "source": [
    "P = 20\n",
    "res = 0\n",
    "for i in range(1, P):\n",
    "    res += int(df[[f\"k_{i}_num_winners\"]].mean())\n",
    "    \n",
    "mean = res / (P-1)"
   ]
  },
  {
   "cell_type": "code",
   "execution_count": 357,
   "metadata": {
    "scrolled": false
   },
   "outputs": [
    {
     "name": "stdout",
     "output_type": "stream",
     "text": [
      "k_1 => best: 199, worst: 147, mid: 654\n",
      "k_2 => best: 260, worst: 113, mid: 627\n",
      "k_3 => best: 323, worst: 75, mid: 602\n",
      "k_4 => best: 345, worst: 79, mid: 576\n",
      "k_5 => best: 340, worst: 82, mid: 578\n",
      "k_6 => best: 354, worst: 60, mid: 586\n",
      "k_7 => best: 348, worst: 68, mid: 584\n",
      "k_8 => best: 390, worst: 55, mid: 555\n",
      "k_9 => best: 360, worst: 59, mid: 581\n",
      "k_10 => best: 356, worst: 49, mid: 595\n",
      "k_11 => best: 334, worst: 57, mid: 609\n",
      "k_12 => best: 305, worst: 77, mid: 618\n",
      "k_13 => best: 293, worst: 60, mid: 647\n",
      "k_14 => best: 294, worst: 77, mid: 629\n",
      "k_15 => best: 287, worst: 86, mid: 627\n",
      "k_16 => best: 245, worst: 104, mid: 651\n",
      "k_17 => best: 237, worst: 143, mid: 620\n",
      "k_18 => best: 189, worst: 193, mid: 618\n",
      "k_19 => best: 103, worst: 279, mid: 618\n"
     ]
    }
   ],
   "source": [
    "t = 'util'\n",
    "\n",
    "best, worst, mid = compare_all(t, P)"
   ]
  },
  {
   "cell_type": "code",
   "execution_count": 358,
   "metadata": {},
   "outputs": [
    {
     "data": {
      "image/png": "[encoded data removed]",
      "text/plain": [
       "<Figure size 1080x576 with 1 Axes>"
      ]
     },
     "metadata": {
      "needs_background": "light"
     },
     "output_type": "display_data"
    }
   ],
   "source": [
    "plot_stacked(best, worst, mid, t, P, mean)"
   ]
  },
  {
   "cell_type": "code",
   "execution_count": 359,
   "metadata": {},
   "outputs": [
    {
     "name": "stdout",
     "output_type": "stream",
     "text": [
      "k_1 => best: 161, worst: 178, mid: 661\n",
      "k_2 => best: 157, worst: 153, mid: 690\n",
      "k_3 => best: 193, worst: 141, mid: 666\n",
      "k_4 => best: 154, worst: 169, mid: 677\n",
      "k_5 => best: 173, worst: 157, mid: 670\n",
      "k_6 => best: 185, worst: 150, mid: 665\n",
      "k_7 => best: 182, worst: 156, mid: 662\n",
      "k_8 => best: 191, worst: 144, mid: 665\n",
      "k_9 => best: 191, worst: 135, mid: 674\n",
      "k_10 => best: 203, worst: 125, mid: 672\n",
      "k_11 => best: 192, worst: 128, mid: 680\n",
      "k_12 => best: 193, worst: 133, mid: 674\n",
      "k_13 => best: 180, worst: 130, mid: 690\n",
      "k_14 => best: 196, worst: 139, mid: 665\n",
      "k_15 => best: 188, worst: 132, mid: 680\n",
      "k_16 => best: 195, worst: 145, mid: 660\n",
      "k_17 => best: 199, worst: 140, mid: 661\n",
      "k_18 => best: 207, worst: 142, mid: 651\n",
      "k_19 => best: 165, worst: 185, mid: 650\n"
     ]
    }
   ],
   "source": [
    "t = 'egal'\n",
    "\n",
    "best, worst, mid = compare_all(t, P)"
   ]
  },
  {
   "cell_type": "code",
   "execution_count": 360,
   "metadata": {},
   "outputs": [
    {
     "data": {
      "image/png": "[encoded data removed]",
      "text/plain": [
       "<Figure size 1080x576 with 1 Axes>"
      ]
     },
     "metadata": {
      "needs_background": "light"
     },
     "output_type": "display_data"
    }
   ],
   "source": [
    "plot_stacked(best, worst, mid, t, P, mean)"
   ]
  },
  {
   "cell_type": "code",
   "execution_count": null,
   "metadata": {},
   "outputs": [],
   "source": []
  },
  {
   "cell_type": "code",
   "execution_count": null,
   "metadata": {},
   "outputs": [],
   "source": []
  },
  {
   "cell_type": "code",
   "execution_count": 220,
   "metadata": {},
   "outputs": [
    {
     "name": "stdout",
     "output_type": "stream",
     "text": [
      "k_1 => best: 382, worst: 281, mid: 337\n",
      "k_2 => best: 435, worst: 237, mid: 328\n",
      "k_3 => best: 465, worst: 205, mid: 330\n",
      "k_4 => best: 471, worst: 204, mid: 325\n",
      "k_5 => best: 462, worst: 197, mid: 341\n",
      "k_6 => best: 455, worst: 203, mid: 342\n",
      "k_7 => best: 426, worst: 243, mid: 331\n",
      "k_8 => best: 409, worst: 256, mid: 335\n",
      "k_9 => best: 340, worst: 347, mid: 313\n"
     ]
    },
    {
     "data": {
      "image/png": "[encoded data removed]",
      "text/plain": [
       "<Figure size 720x576 with 1 Axes>"
      ]
     },
     "metadata": {
      "needs_background": "light"
     },
     "output_type": "display_data"
    }
   ],
   "source": [
    "t = 'comp'\n",
    "\n",
    "best, worst, mid = compare_all(t, P)\n",
    "plot_stacked(best, worst, mid, t, P)"
   ]
  },
  {
   "cell_type": "code",
   "execution_count": null,
   "metadata": {},
   "outputs": [],
   "source": []
  }
 ],
 "metadata": {
  "kernelspec": {
   "display_name": "Python 3",
   "language": "python",
   "name": "python3"
  },
  "language_info": {
   "codemirror_mode": {
    "name": "ipython",
    "version": 3
   },
   "file_extension": ".py",
   "mimetype": "text/x-python",
   "name": "python",
   "nbconvert_exporter": "python",
   "pygments_lexer": "ipython3",
   "version": "3.7.6"
  }
 },
 "nbformat": 4,
 "nbformat_minor": 4
}
