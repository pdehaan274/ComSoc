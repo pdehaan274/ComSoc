{
 "cells": [
  {
   "cell_type": "code",
   "execution_count": 1,
   "metadata": {},
   "outputs": [],
   "source": [
    "import top_k\n",
    "import numpy as np\n",
    "import pandas as pd"
   ]
  },
  {
   "cell_type": "markdown",
   "metadata": {},
   "source": [
    "# Namaak benade 2018"
   ]
  },
  {
   "cell_type": "code",
   "execution_count": null,
   "metadata": {},
   "outputs": [],
   "source": [
    "# using project costs and utils from benade 2018\n",
    "P = 10\n",
    "budget = 65\n",
    "\n",
    "project_prizes= {0:10, 1:20, 2:3, 3:8, 4:5, 5:5, 6:10, 7:10, 8:30, 9:25}\n",
    "possible_sets = top_k.get_possible_sets(project_prizes, budget)"
   ]
  },
  {
   "cell_type": "code",
   "execution_count": null,
   "metadata": {},
   "outputs": [],
   "source": [
    "N = 720\n",
    "epsilon = 15\n",
    "\n",
    "base_util = np.asarray([5.8, 2.3, 29.3, 9.5, 14.8, 9.4, 5.4, 14.9, 6.7, 1.9])\n",
    "utilities = top_k.make_voter_utils(base_util, epsilon, N)"
   ]
  },
  {
   "cell_type": "code",
   "execution_count": null,
   "metadata": {},
   "outputs": [],
   "source": [
    "max_set = top_k.max_utility(possible_sets, utilities)\n"
   ]
  },
  {
   "cell_type": "code",
   "execution_count": null,
   "metadata": {},
   "outputs": [],
   "source": [
    "for k in range(1, P):\n",
    "        print(\"---------k------------\", k)\n",
    "        # calculate scores for all projects\n",
    "        votes = top_k.k_approval(k, utilities, P)\n",
    "        print(votes)\n",
    "        # determine the winning projects\n",
    "        winners = top_k.greedy_allocation(votes, project_prizes, budget)\n",
    "        \n",
    "        # calculate loss\n",
    "        util_score = top_k.calculate_sw(utilities, winners)\n",
    "        egal_score = top_k.calculate_sw(utilities, winners, egal=True)\n",
    "        # nash_score = calculate_sw(utilities, winners, nash=True)\n",
    "        nash_score = 0\n",
    "\n",
    "        comp_score = top_k.calc_compare_score(winners, max_set, project_prizes)\n",
    "        dist_score = top_k.calc_dist_score(winners, max_set, utilities)\n",
    "\n",
    "#         print(\"util\", util_score)\n",
    "#         print(\"egal\", egal_score)\n",
    "#         print(\"comp\", comp_score)\n",
    "#         print(\"dist\", dist_score)"
   ]
  },
  {
   "cell_type": "code",
   "execution_count": null,
   "metadata": {},
   "outputs": [],
   "source": [
    "df = pd.read_csv(\"results/results_P10_ep15_N720_B65_min10_max25_L100.csv\")"
   ]
  },
  {
   "cell_type": "code",
   "execution_count": null,
   "metadata": {},
   "outputs": [],
   "source": [
    "from collections import Counter\n",
    "from matplotlib import pyplot as plt\n",
    "\n",
    "winners = []\n",
    "for i, row in df.iterrows():\n",
    "    win = []\n",
    "    for i in range(1,10):\n",
    "        get = \"k_\" + str(i) + \"_winners\"\n",
    "        win.append(int(row[get]))\n",
    "    winners.append(win)\n",
    "    \n",
    "winner_sets = []\n",
    "for i, result in enumerate(winners):\n",
    "    winner_sets.append(len(set(result)))\n",
    "    \n",
    "c = Counter(winner_sets)\n",
    "plt.bar(list(c.keys()), c.values())\n",
    "plt.xlabel(\"Different winning sets\")\n",
    "plt.ylabel(\"Runs\")\n",
    "plt.show()"
   ]
  },
  {
   "cell_type": "markdown",
   "metadata": {},
   "source": [
    "# Epistemic accuracy"
   ]
  },
  {
   "cell_type": "code",
   "execution_count": null,
   "metadata": {},
   "outputs": [],
   "source": [
    "from collections import defaultdict\n",
    "from sklearn.preprocessing import normalize\n",
    "\n",
    "\n",
    "def epistemic_topk(probs, k, N):\n",
    "    votes = []\n",
    "    projects = list(range(len(probs)))\n",
    "    # Create noisy prob vectors for voters\n",
    "    probs = np.tile(probs, (N,1))\n",
    "    noise = np.random.normal(0.07, 0.05, (N, len(projects)))\n",
    "    probs += noise\n",
    "    # Set all negative probs to positive number and \n",
    "    probs[probs < 0] = 0.0001\n",
    "    probs = normalize(probs, \"l1\", axis=1)\n",
    "    # Every voters uses prob distr to vote\n",
    "    for i in range(N):\n",
    "        vote = np.random.choice(projects, k, replace=False, p=probs[i])\n",
    "        votes += list(vote)\n",
    "    return Counter(votes)\n"
   ]
  },
  {
   "cell_type": "code",
   "execution_count": null,
   "metadata": {},
   "outputs": [],
   "source": [
    "P = 10 \n",
    "epsilon = 10\n",
    "N = 500\n",
    "budget = 40\n",
    "min_prize = 5\n",
    "max_prize = 25"
   ]
  },
  {
   "cell_type": "code",
   "execution_count": null,
   "metadata": {},
   "outputs": [],
   "source": [
    "values = top_k.make_base_util(P)\n",
    "probs = values / np.sum(values)\n",
    "prizes = top_k.make_projects(min_prize, max_prize, P)\n",
    "possible_sets = top_k.get_possible_sets(prizes, budget)\n",
    "best_set = top_k.best_outcome(values, possible_sets)"
   ]
  },
  {
   "cell_type": "code",
   "execution_count": null,
   "metadata": {},
   "outputs": [],
   "source": [
    "utilities = top_k.make_voter_utils(values, epsilon, N)\n"
   ]
  },
  {
   "cell_type": "code",
   "execution_count": null,
   "metadata": {},
   "outputs": [],
   "source": [
    "for k in range(1, P):\n",
    "    print(\"---------k------------\", k)\n",
    "    # calculate scores for all projects\n",
    "    votes = epistemic_topk(probs, k,  N)\n",
    "    print(votes)\n",
    "    \n",
    "    # determine the winning projects\n",
    "    winners = top_k.greedy_allocation(votes, project_prizes, budget)\n",
    "        \n",
    "    # Epistemic accuracy\n",
    "    print(\"win:\", list(winners), \"--best\",  best_set[0])\n",
    "    correct = 0\n",
    "    for alt in list(winners):\n",
    "        if alt in best_set[0]:\n",
    "            correct += 1\n",
    "    \n",
    "    acc = correct/len(best_set[0])\n",
    "    print(acc)\n",
    "                \n"
   ]
  },
  {
   "cell_type": "markdown",
   "metadata": {
    "collapsed": true
   },
   "source": [
    "# Different base utils"
   ]
  },
  {
   "cell_type": "code",
   "execution_count": null,
   "metadata": {},
   "outputs": [],
   "source": [
    "P = 10\n",
    "epsilon = 10\n",
    "N = 500\n",
    "budget = 40\n",
    "min_prize = 5\n",
    "max_prize = 15"
   ]
  },
  {
   "cell_type": "code",
   "execution_count": null,
   "metadata": {},
   "outputs": [],
   "source": [
    "prizes = top_k.make_projects(min_prize, max_prize, P)\n",
    "possible_sets = top_k.get_possible_sets(prizes, budget)\n",
    "# best_set = top_k.best_outcome(values, possible_sets)\n",
    "max_set, max_total_util = top_k.max_utility(possible_sets, utilities)"
   ]
  },
  {
   "cell_type": "code",
   "execution_count": null,
   "metadata": {},
   "outputs": [],
   "source": [
    "# Create different base utilities \n",
    "base_util, vote_util = [], []\n",
    "for i in range(P):\n",
    "    util = top_k.make_base_util(P)\n",
    "    base_util.append(util)    \n",
    "    utilities = top_k.make_voter_utils(util, epsilon, int(N/5))\n",
    "    vote_util.append(utilities)\n",
    "voter_utilities = np.vstack(vote_util)"
   ]
  },
  {
   "cell_type": "code",
   "execution_count": null,
   "metadata": {},
   "outputs": [],
   "source": [
    "util_scores = []\n",
    "egal_scores = []\n",
    "comp_scores = []\n",
    "dist_scores = []\n",
    "\n",
    "\n",
    "for k in range(1, P+1):\n",
    "        print(\"---------k------------\", k)\n",
    "        # calculate scores for all projects\n",
    "        votes = top_k.k_approval(k, voter_utilities, P)\n",
    "        print(f\"votes: {votes}\")\n",
    "        \n",
    "        # determine the winning projects\n",
    "        winners = top_k.greedy_allocation(votes, prizes, budget)\n",
    "        print(winners)\n",
    "        # calculate loss\n",
    "        util_score = top_k.calculate_sw(utilities, winners)\n",
    "        egal_score = top_k.calculate_sw(utilities, winners, egal=True)\n",
    "        # nash_score = calculate_sw(utilities, winners, nash=True)\n",
    "        nash_score = 0\n",
    "\n",
    "        comp_score = top_k.calc_compare_score(winners, max_set, prizes)\n",
    "        dist_score = max_total_util / util_score\n",
    "\n",
    "        print(\"util\", util_score)\n",
    "        print(\"egal\", egal_score)\n",
    "        print(\"comp\", comp_score)\n",
    "        print(\"dist\", dist_score)\n",
    "        \n",
    "        util_scores.append(util_score)\n",
    "        egal_scores.append(egal_score)\n",
    "        comp_scores.append(comp_score)\n",
    "        dist_scores.append(dist_score)"
   ]
  },
  {
   "cell_type": "code",
   "execution_count": null,
   "metadata": {},
   "outputs": [],
   "source": [
    "from matplotlib import pyplot as plt\n",
    "\n",
    "def plot(name, scores):\n",
    "    x = range(1, P+1)\n",
    "    plt.bar(x, scores)\n",
    "\n",
    "    plt.title(name, fontsize=20)\n",
    "    plt.xticks(range(1,10))\n",
    "\n",
    "    plt.xlabel(\"k-value\", fontsize=15)\n",
    "    plt.ylabel(\"score\", fontsize=15)\n",
    "    plt.show()"
   ]
  },
  {
   "cell_type": "code",
   "execution_count": null,
   "metadata": {},
   "outputs": [],
   "source": [
    "plot(\"util\", util_scores)\n",
    "plot(\"egal\", egal_scores)\n",
    "plot(\"comp\", comp_scores)\n",
    "plot(\"dist\", dist_scores)"
   ]
  },
  {
   "cell_type": "markdown",
   "metadata": {},
   "source": [
    "# Borda base util"
   ]
  },
  {
   "cell_type": "code",
   "execution_count": 7,
   "metadata": {},
   "outputs": [],
   "source": [
    "P = 10\n",
    "epsilon = 5\n",
    "N = 500\n",
    "budget = 30\n",
    "min_prize = 5\n",
    "max_prize = 10"
   ]
  },
  {
   "cell_type": "code",
   "execution_count": 8,
   "metadata": {},
   "outputs": [],
   "source": [
    "def normal_prizes(min_prize, max_prize, sd, P):\n",
    "    prizes = {}\n",
    "    mid = (min_prize+sd)\n",
    "    for i in range(P):\n",
    "        prize = np.random.normal(mid, sd)\n",
    "        prizes[i] = int(max(prize, min_prize))\n",
    "    return prizes"
   ]
  },
  {
   "cell_type": "code",
   "execution_count": null,
   "metadata": {},
   "outputs": [],
   "source": []
  },
  {
   "cell_type": "code",
   "execution_count": 9,
   "metadata": {},
   "outputs": [
    {
     "name": "stdout",
     "output_type": "stream",
     "text": [
      "[30  2  2  2  2  2  2  2  2  2]\n",
      "[[0.3480197  0.05540443 0.11822761 ... 0.         0.00131553 0.17003174]\n",
      " [0.28649328 0.12294893 0.         ... 0.08370905 0.11446642 0.06002747]\n",
      " [0.30366397 0.15248277 0.03939487 ... 0.00434662 0.03038045 0.09069267]\n",
      " ...\n",
      " [0.26735769 0.09935194 0.12049732 ... 0.07167543 0.04972302 0.08713407]\n",
      " [0.46652331 0.15840734 0.02210057 ... 0.01023146 0.01786145 0.07081528]\n",
      " [0.44020182 0.03752783 0.075834   ... 0.03072128 0.12397367 0.16393964]]\n"
     ]
    }
   ],
   "source": [
    "# Create utilities\n",
    "base_util = top_k.make_base_util(P)\n",
    "base_util[0] = 30\n",
    "base_util[1:] = 2\n",
    "print(base_util)\n",
    "utilities = top_k.make_voter_utils(base_util, epsilon, N)\n",
    "print(utilities)\n",
    "# Prizes and possible sets\n",
    "prizes = top_k.make_projects(min_prize, max_prize, P)\n",
    "# prizes = normal_prizes(min_prize, max_prize, 7, P)\n",
    "possible_sets = top_k.get_possible_sets(prizes, budget)\n",
    "max_set, max_total_util = top_k.max_utility(possible_sets, utilities)\n"
   ]
  },
  {
   "cell_type": "code",
   "execution_count": 10,
   "metadata": {},
   "outputs": [
    {
     "name": "stdout",
     "output_type": "stream",
     "text": [
      "---------k------------ 1\n",
      "votes: Counter({0: 500, 1: 0, 2: 0, 3: 0, 4: 0, 5: 0, 6: 0, 7: 0, 8: 0, 9: 0})\n",
      "{0, 1, 2, 3}\n",
      "util 0.574815658331146\n",
      "egal 0.35205105314293356\n",
      "comp 13.096\n",
      "dist 1.1295271689052806\n",
      "---------k------------ 2\n",
      "votes: Counter({0: 500, 1: 71, 8: 62, 9: 57, 3: 57, 4: 55, 5: 53, 2: 52, 6: 49, 7: 44})\n",
      "{0, 1, 8, 9}\n",
      "util 0.5809070654947583\n",
      "egal 0.3741245929344509\n",
      "comp 14.03\n",
      "dist 1.1176829165336826\n",
      "---------k------------ 3\n",
      "votes: Counter({0: 500, 1: 127, 8: 125, 4: 115, 3: 112, 9: 107, 6: 107, 7: 104, 2: 103, 5: 100})\n",
      "{0, 1, 4, 7, 8}\n",
      "util 0.6474748335899012\n",
      "egal 0.4489943434049336\n",
      "comp 17.416\n",
      "dist 1.0027724160294393\n",
      "---------k------------ 4\n",
      "votes: Counter({0: 500, 9: 174, 1: 174, 6: 169, 8: 166, 4: 165, 7: 165, 3: 164, 2: 162, 5: 161})\n",
      "{0, 9, 1, 6}\n",
      "util 0.5799575651765543\n",
      "egal 0.3486818171313012\n",
      "comp 13.192\n",
      "dist 1.1195127750416527\n",
      "---------k------------ 5\n",
      "votes: Counter({0: 500, 1: 229, 9: 227, 6: 224, 3: 224, 7: 224, 8: 223, 4: 221, 2: 214, 5: 214})\n",
      "{0, 1, 9, 6}\n",
      "util 0.5799575651765543\n",
      "egal 0.3486818171313012\n",
      "comp 13.192\n",
      "dist 1.1195127750416527\n",
      "---------k------------ 6\n",
      "votes: Counter({0: 500, 8: 295, 6: 286, 9: 281, 3: 280, 1: 280, 5: 273, 4: 272, 7: 269, 2: 264})\n",
      "{0, 8, 6, 9}\n",
      "util 0.5790042846803061\n",
      "egal 0.31462769522346884\n",
      "comp 13.15\n",
      "dist 1.121355956037001\n",
      "---------k------------ 7\n",
      "votes: Counter({0: 500, 8: 349, 6: 347, 1: 343, 9: 338, 3: 333, 5: 328, 4: 326, 7: 326, 2: 310})\n",
      "{0, 8, 6, 1}\n",
      "util 0.5806184713077742\n",
      "egal 0.36286578953509385\n",
      "comp 12.47\n",
      "dist 1.1182384565458294\n",
      "---------k------------ 8\n",
      "votes: Counter({0: 500, 6: 401, 8: 398, 1: 391, 4: 390, 7: 390, 3: 389, 5: 389, 9: 382, 2: 370})\n",
      "{0, 8, 6, 1}\n",
      "util 0.5806184713077742\n",
      "egal 0.36286578953509385\n",
      "comp 12.47\n",
      "dist 1.1182384565458294\n",
      "---------k------------ 9\n",
      "votes: Counter({0: 500, 7: 455, 3: 451, 1: 451, 6: 446, 8: 443, 5: 441, 4: 440, 9: 438, 2: 435})\n",
      "{0, 1, 3, 4, 7}\n",
      "util 0.6457399874758114\n",
      "egal 0.4276574538674694\n",
      "comp 17.994\n",
      "dist 1.0054664660542263\n",
      "---------k------------ 10\n",
      "votes: Counter({0: 500, 9: 500, 6: 500, 2: 500, 3: 500, 4: 500, 1: 500, 5: 500, 8: 500, 7: 500})\n",
      "{0, 9, 2, 6}\n",
      "util 0.5739868174995636\n",
      "egal 0.3610438503049395\n",
      "comp 12.36\n",
      "dist 1.1311582137471268\n"
     ]
    }
   ],
   "source": [
    "util_scores = []\n",
    "egal_scores = []\n",
    "comp_scores = []\n",
    "dist_scores = []\n",
    "\n",
    "\n",
    "for k in range(1, P+1):\n",
    "        print(\"---------k------------\", k)\n",
    "        # calculate scores for all projects\n",
    "        votes = top_k.k_approval(k, utilities, P)\n",
    "        print(f\"votes: {votes}\")\n",
    "        \n",
    "        # determine the winning projects\n",
    "        winners = top_k.greedy_allocation(votes, prizes, budget)\n",
    "        print(winners)\n",
    "        # calculate loss\n",
    "        util_score = top_k.calculate_sw(utilities, winners)\n",
    "        egal_score = top_k.calculate_sw(utilities, winners, egal=True)\n",
    "        # nash_score = calculate_sw(utilities, winners, nash=True)\n",
    "        nash_score = 0\n",
    "\n",
    "        comp_score = top_k.calc_compare_score(winners, max_set, prizes)\n",
    "        dist_score = max_total_util / util_score\n",
    "\n",
    "        print(\"util\", util_score)\n",
    "        print(\"egal\", egal_score)\n",
    "        print(\"comp\", comp_score)\n",
    "        print(\"dist\", dist_score)\n",
    "        \n",
    "        util_scores.append(util_score)\n",
    "        egal_scores.append(egal_score)\n",
    "        comp_scores.append(comp_score)\n",
    "        dist_scores.append(dist_score)"
   ]
  },
  {
   "cell_type": "code",
   "execution_count": 11,
   "metadata": {},
   "outputs": [],
   "source": [
    "from matplotlib import pyplot as plt\n",
    "\n",
    "def plot(name, scores):\n",
    "    x = range(1, P+1)\n",
    "    plt.bar(x, scores)\n",
    "\n",
    "    plt.title(name, fontsize=20)\n",
    "    plt.xticks(range(1,10))\n",
    "\n",
    "    plt.xlabel(\"k-value\", fontsize=15)\n",
    "    plt.ylabel(\"score\", fontsize=15)\n",
    "    plt.show()"
   ]
  },
  {
   "cell_type": "code",
   "execution_count": 12,
   "metadata": {},
   "outputs": [
    {
     "data": {
      "image/png": "[encoded data removed]",
      "text/plain": [
       "<Figure size 432x288 with 1 Axes>"
      ]
     },
     "metadata": {
      "needs_background": "light"
     },
     "output_type": "display_data"
    },
    {
     "data": {
      "image/png": "[encoded data removed]",
      "text/plain": [
       "<Figure size 432x288 with 1 Axes>"
      ]
     },
     "metadata": {
      "needs_background": "light"
     },
     "output_type": "display_data"
    },
    {
     "data": {
      "image/png": "[encoded data removed]",
      "text/plain": [
       "<Figure size 432x288 with 1 Axes>"
      ]
     },
     "metadata": {
      "needs_background": "light"
     },
     "output_type": "display_data"
    },
    {
     "data": {
      "image/png": "[encoded data removed]",
      "text/plain": [
       "<Figure size 432x288 with 1 Axes>"
      ]
     },
     "metadata": {
      "needs_background": "light"
     },
     "output_type": "display_data"
    }
   ],
   "source": [
    "plot(\"util\", util_scores)\n",
    "plot(\"egal\", egal_scores)\n",
    "plot(\"comp\", comp_scores)\n",
    "plot(\"dist\", dist_scores)"
   ]
  },
  {
   "cell_type": "code",
   "execution_count": null,
   "metadata": {},
   "outputs": [],
   "source": []
  }
 ],
 "metadata": {
  "kernelspec": {
   "display_name": "Python 3",
   "language": "python",
   "name": "python3"
  },
  "language_info": {
   "codemirror_mode": {
    "name": "ipython",
    "version": 3
   },
   "file_extension": ".py",
   "mimetype": "text/x-python",
   "name": "python",
   "nbconvert_exporter": "python",
   "pygments_lexer": "ipython3",
   "version": "3.7.6"
  }
 },
 "nbformat": 4,
 "nbformat_minor": 2
}
