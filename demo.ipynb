{
 "cells": [
  {
   "cell_type": "code",
   "execution_count": 1,
   "metadata": {},
   "outputs": [],
   "source": [
    "import numpy as np \n",
    "from collections import Counter\n",
    "\n",
    "from matplotlib import pyplot as plt"
   ]
  },
  {
   "cell_type": "code",
   "execution_count": 71,
   "metadata": {},
   "outputs": [],
   "source": [
    "P = 10\n",
    "epsilon = 1\n",
    "N = 500\n",
    "k = 3\n",
    "budget = 30"
   ]
  },
  {
   "cell_type": "markdown",
   "metadata": {},
   "source": [
    "# Creating a population"
   ]
  },
  {
   "cell_type": "code",
   "execution_count": 89,
   "metadata": {},
   "outputs": [],
   "source": [
    "def normalize_vec(vec):\n",
    "    u_max = np.max(vec, axis=1)\n",
    "    u_min = np.min(vec, axis=1)\n",
    "    \n",
    "    ampl = u_max - u_min\n",
    "    vec = vec - u_min.reshape(-1, 1)\n",
    "    vec /= ampl.reshape(-1, 1)\n",
    "    vec /= np.sum(vec, axis=1).reshape(-1,1)\n",
    "    \n",
    "    return vec\n",
    "\n",
    "def make_base_util(P):\n",
    "    \"\"\"\n",
    "        Create a base utility vector\n",
    "    \"\"\"\n",
    "    \n",
    "    #TODO: expand on this\n",
    "    return np.random.randint(0, 10, P)\n",
    "\n",
    "def make_projects(budget, size):\n",
    "    \"\"\"\n",
    "    Create a dictionary with all projects and corresponding prices.\n",
    "    \"\"\"\n",
    "    projects = {}\n",
    "    #TODO: What would be a good price initialization for the projects?\n",
    "    for i in range(size):\n",
    "        price = 1\n",
    "        # projects[i] = price\n",
    "        projects[i] = np.random.randint(0, budget/2, 1)[0]\n",
    "    return projects\n",
    "\n",
    "def make_voter_utils(base_util, epsilon, n):\n",
    "    \"\"\"\n",
    "    Create utility profiles for n voters. All profiles are based on a base\n",
    "    utility profile adjusted with random noise. Final voting profiles are\n",
    "    all normalized with values between 0 and 1.\n",
    "    \"\"\"\n",
    "    base = np.array([base_util for _ in range(n)])\n",
    "\n",
    "    noise = np.random.normal(0,epsilon,base.shape)\n",
    "    utils = base_util + noise\n",
    "\n",
    "    return normalize_vec(utils)\n",
    "\n",
    "\n",
    "# initialize vectors\n",
    "base_util = make_base_util(P)\n",
    "project_prizes = make_projects(budget, P)\n",
    "\n",
    "# create utilities for voters\n",
    "utilities = make_voter_utils(base_util, epsilon, N)"
   ]
  },
  {
   "cell_type": "code",
   "execution_count": 90,
   "metadata": {},
   "outputs": [
    {
     "data": {
      "image/png": "[encoded data removed]",
      "text/plain": [
       "<Figure size 432x288 with 1 Axes>"
      ]
     },
     "metadata": {
      "needs_background": "light"
     },
     "output_type": "display_data"
    }
   ],
   "source": [
    "plt.bar(range(len(base_util)), base_util)\n",
    "plt.xticks(range(len(base_util)))\n",
    "plt.title(\"Base utilities\")\n",
    "plt.show()"
   ]
  },
  {
   "cell_type": "code",
   "execution_count": 91,
   "metadata": {},
   "outputs": [
    {
     "data": {
      "image/png": "[encoded data removed]",
      "text/plain": [
       "<Figure size 432x288 with 1 Axes>"
      ]
     },
     "metadata": {
      "needs_background": "light"
     },
     "output_type": "display_data"
    }
   ],
   "source": [
    "plt.bar(range(len(base_util)), np.mean(utilities, axis=0))\n",
    "plt.xticks(range(len(base_util)))\n",
    "plt.title(\"Mean utilities\")\n",
    "plt.show()"
   ]
  },
  {
   "cell_type": "markdown",
   "metadata": {},
   "source": [
    "# Calculating scores for different k-values"
   ]
  },
  {
   "cell_type": "code",
   "execution_count": 92,
   "metadata": {},
   "outputs": [],
   "source": [
    "def k_approval(k, utils):\n",
    "    \"\"\"\n",
    "    Extract the k alternatives with the highest utility for\n",
    "    all voters.\n",
    "    \"\"\"\n",
    "    votes = np.argsort(utils, axis=1)[:, :k]\n",
    "    return Counter(votes.reshape(-1))\n",
    "\n",
    "\n",
    "def greedy_allocation(votes, projects, budget):\n",
    "    \"\"\"\n",
    "    Use greedy approval to allocate the budget to the most-preferred\n",
    "    projects of the voters. \n",
    "    \"\"\"\n",
    "    # Create top-k ranking/approval\n",
    "    allocation = set()\n",
    "    most_votes = votes.most_common()\n",
    "\n",
    "    lowest_price = np.min(list(projects.values()))\n",
    "    for project in most_votes:\n",
    "            \n",
    "        project_to_add = project[0]\n",
    "        price = projects[project_to_add]\n",
    "\n",
    "        if budget >= price:\n",
    "            allocation.add(project_to_add)\n",
    "            budget -= price\n",
    "\n",
    "        if budget < lowest_price:\n",
    "            break\n",
    "\n",
    "    return allocation\n",
    "\n",
    "def calculate_sw(utils, winners):\n",
    "    \"\"\"\n",
    "    Calculate the utilitarian social welfare, averaged over\n",
    "    the amount of voters.\n",
    "    \"\"\"\n",
    "    sw = utils[:, list(winners)]\n",
    "    sw = np.sum(sw, axis=1)\n",
    "    sw = np.mean(sw)\n",
    "    return sw"
   ]
  },
  {
   "cell_type": "code",
   "execution_count": 97,
   "metadata": {},
   "outputs": [],
   "source": [
    "wellfares = []\n",
    "\n",
    "for k in range(1, P):\n",
    "    # calculate scores for all projects\n",
    "    votes = k_approval(k, utilities)\n",
    "    # print(f\"votes: {votes}\")\n",
    "\n",
    "    # determine the winning projects\n",
    "    winners = greedy_allocation(votes, project_prizes, budget)\n",
    "    # print(f\"winners: {winners}\")\n",
    "\n",
    "    # calculate loss\n",
    "    sw = calculate_sw(utilities, winners)\n",
    "    \n",
    "    wellfares.append(sw)"
   ]
  },
  {
   "cell_type": "code",
   "execution_count": 99,
   "metadata": {},
   "outputs": [
    {
     "data": {
      "image/png": "[encoded data removed]",
      "text/plain": [
       "<Figure size 432x288 with 1 Axes>"
      ]
     },
     "metadata": {
      "needs_background": "light"
     },
     "output_type": "display_data"
    }
   ],
   "source": [
    "plt.bar(range(1, P), wellfares)\n",
    "plt.xticks(range(1, P))\n",
    "plt.title(\"Comparing k-values\")\n",
    "plt.show()"
   ]
  },
  {
   "cell_type": "code",
   "execution_count": null,
   "metadata": {},
   "outputs": [],
   "source": []
  },
  {
   "cell_type": "code",
   "execution_count": 2,
   "metadata": {},
   "outputs": [],
   "source": [
    "x = np.array([[1,2,5,2,4,1],\n",
    "            [6,1,3,2,3,1]])"
   ]
  },
  {
   "cell_type": "code",
   "execution_count": 5,
   "metadata": {},
   "outputs": [
    {
     "name": "stdout",
     "output_type": "stream",
     "text": [
      "[[0 5 1 3 4 2]\n",
      " [1 5 3 2 4 0]]\n"
     ]
    }
   ],
   "source": [
    "print(np.argsort(x))"
   ]
  },
  {
   "cell_type": "code",
   "execution_count": 7,
   "metadata": {},
   "outputs": [
    {
     "name": "stdout",
     "output_type": "stream",
     "text": [
      "[[2 4 3 1 5 0]\n",
      " [0 4 2 3 5 1]]\n"
     ]
    }
   ],
   "source": [
    "print(np.argsort(x)[:,::-1])"
   ]
  },
  {
   "cell_type": "code",
   "execution_count": null,
   "metadata": {},
   "outputs": [],
   "source": []
  }
 ],
 "metadata": {
  "kernelspec": {
   "display_name": "Python 3",
   "language": "python",
   "name": "python3"
  },
  "language_info": {
   "codemirror_mode": {
    "name": "ipython",
    "version": 3
   },
   "file_extension": ".py",
   "mimetype": "text/x-python",
   "name": "python",
   "nbconvert_exporter": "python",
   "pygments_lexer": "ipython3",
   "version": "3.7.6"
  }
 },
 "nbformat": 4,
 "nbformat_minor": 4
}
